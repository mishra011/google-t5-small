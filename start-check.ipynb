{
 "cells": [
  {
   "cell_type": "code",
   "execution_count": 6,
   "metadata": {},
   "outputs": [
    {
     "name": "stderr",
     "output_type": "stream",
     "text": [
      "huggingface/tokenizers: The current process just got forked, after parallelism has already been used. Disabling parallelism to avoid deadlocks...\n",
      "To disable this warning, you can either:\n",
      "\t- Avoid using `tokenizers` before the fork if possible\n",
      "\t- Explicitly set the environment variable TOKENIZERS_PARALLELISM=(true | false)\n",
      "/Users/deepakmishra/.pyenv/versions/3.10.14/envs/denv/lib/python3.10/site-packages/transformers/convert_slow_tokenizer.py:562: UserWarning: The sentencepiece tokenizer that you are converting to a fast tokenizer uses the byte fallback option which is not implemented in the fast tokenizers. In practice this means that the fast version of the tokenizer can produce unknown tokens whereas the sentencepiece version would have converted these unknown tokens into a sequence of byte tokens matching the original piece of text.\n",
      "  warnings.warn(\n"
     ]
    },
    {
     "name": "stdout",
     "output_type": "stream",
     "text": [
      "<extra_id_0>,...\n"
     ]
    }
   ],
   "source": [
    "from transformers import AutoTokenizer, AutoModelForSeq2SeqLM\n",
    "\n",
    "# Choose a pre-trained mT5 model for text generation\n",
    "model_name = \"google/mt5-base\"\n",
    "\n",
    "# Load the tokenizer and model\n",
    "tokenizer = AutoTokenizer.from_pretrained(model_name)\n",
    "model = AutoModelForSeq2SeqLM.from_pretrained(model_name)\n",
    "\n",
    "# Define your starting prompt for text generation\n",
    "prompt = \"Once upon a time, there was a brave knight...\"\n",
    "\n",
    "# Encode the prompt text\n",
    "input_ids = tokenizer.encode(prompt, return_tensors=\"pt\")\n",
    "\n",
    "# Generate text using beam search\n",
    "output = model.generate(\n",
    "    input_ids=input_ids,\n",
    "    max_length=50,  # Adjust this for longer or shorter generation\n",
    "    num_beams=5,  # Number of beams for beam search decoding\n",
    ")\n",
    "\n",
    "# Decode the generated tokens back to human-readable text\n",
    "generated_text = tokenizer.decode(output[0], skip_special_tokens=True)\n",
    "\n",
    "# Print the generated text\n",
    "print(generated_text)\n"
   ]
  },
  {
   "cell_type": "code",
   "execution_count": 4,
   "metadata": {},
   "outputs": [
    {
     "name": "stdout",
     "output_type": "stream",
     "text": [
      "<extra_id_0>\n"
     ]
    }
   ],
   "source": [
    "from transformers import AutoTokenizer, AutoModelForSeq2SeqLM\n",
    "\n",
    "# Choose the model name (e.g., google/mt5-small)\n",
    "model_name = \"google/mt5-small\"\n",
    "\n",
    "# Load the tokenizer and model\n",
    "tokenizer = AutoTokenizer.from_pretrained(model_name)\n",
    "model = AutoModelForSeq2SeqLM.from_pretrained(model_name)\n",
    "\n",
    "# Define your prompt text\n",
    "prompt = \"Once upon a time, there was a little...\"\n",
    "\n",
    "# Encode the prompt text\n",
    "input_ids = tokenizer.encode(prompt, return_tensors=\"pt\")\n",
    "\n",
    "# Generate text with parameters (adjust as needed)\n",
    "generated_ids = model.generate(\n",
    "    input_ids=input_ids,\n",
    "    max_length=50,  # Adjust the maximum output length\n",
    "    num_beams=2,  # Number of beams for beam search\n",
    "    no_repeat_ngram_size=2,  # Prevent repetition of n-grams\n",
    ")\n",
    "\n",
    "# Decode the generated tokens back to text\n",
    "output_text = tokenizer.decode(generated_ids[0], skip_special_tokens=True)\n",
    "\n",
    "# Print the generated text\n",
    "print(output_text)\n"
   ]
  },
  {
   "cell_type": "code",
   "execution_count": 7,
   "metadata": {},
   "outputs": [
    {
     "name": "stdout",
     "output_type": "stream",
     "text": [
      "<extra_id_0>,...\n"
     ]
    }
   ],
   "source": [
    "from transformers import AutoTokenizer, AutoModelForSeq2SeqLM\n",
    "\n",
    "# Choose the model name (e.g., google/mt5-small)\n",
    "model_name = \"google/mt5-base\"\n",
    "\n",
    "# Load the tokenizer and model\n",
    "tokenizer = AutoTokenizer.from_pretrained(model_name)\n",
    "model = AutoModelForSeq2SeqLM.from_pretrained(model_name)\n",
    "\n",
    "# Define your prompt text\n",
    "prompt = \"Once upon a time, there was a little...\"\n",
    "\n",
    "# Encode the prompt text\n",
    "input_ids = tokenizer.encode(prompt, return_tensors=\"pt\")\n",
    "\n",
    "# Generate text with parameters (adjust as needed)\n",
    "generated_ids = model.generate(\n",
    "    input_ids=input_ids,\n",
    "    max_length=50,  # Adjust the maximum output length\n",
    "    num_beams=2,  # Number of beams for beam search\n",
    "    no_repeat_ngram_size=2,  # Prevent repetition of n-grams\n",
    ")\n",
    "\n",
    "# Get the list of generated tokens (remove batch dimension)\n",
    "generated_tokens = generated_ids[0].tolist()\n",
    "\n",
    "# Decode all tokens (excluding special tokens at the beginning and end)\n",
    "output_text = tokenizer.decode(generated_tokens[1:-1], skip_special_tokens=True)\n",
    "\n",
    "# Print the generated text\n",
    "print(output_text)\n"
   ]
  },
  {
   "cell_type": "code",
   "execution_count": 3,
   "metadata": {},
   "outputs": [
    {
     "name": "stderr",
     "output_type": "stream",
     "text": [
      "Special tokens have been added in the vocabulary, make sure the associated word embeddings are fine-tuned or trained.\n"
     ]
    },
    {
     "name": "stdout",
     "output_type": "stream",
     "text": [
      "Le temps est agréable aujourd'hui.\n"
     ]
    }
   ],
   "source": [
    "from transformers import T5Tokenizer, T5ForConditionalGeneration\n",
    "\n",
    "# Load the tokenizer and model\n",
    "tokenizer = T5Tokenizer.from_pretrained(\"google-t5/t5-small\")\n",
    "model = T5ForConditionalGeneration.from_pretrained(\"google-t5/t5-small\")\n",
    "\n",
    "# Define the prompt (text generation task)\n",
    "prompt = \"translate English to French: The weather is nice today.\"\n",
    "#prompt = \"translate English to Hindi: The weather is nice today.\"\n",
    "\n",
    "# Encode the prompt\n",
    "input_ids = tokenizer(prompt, return_tensors=\"pt\").input_ids\n",
    "\n",
    "# Generate text using beam search\n",
    "outputs = model.generate(\n",
    "    input_ids=input_ids,\n",
    "    max_length=50,  # Adjust this for desired output length\n",
    "    num_beams=5,  # Adjust this for beam search width\n",
    ")\n",
    "\n",
    "# Decode the generated text\n",
    "generated_text = tokenizer.decode(outputs[0], skip_special_tokens=True)\n",
    "\n",
    "# Print the generated text\n",
    "print(generated_text)\n"
   ]
  }
 ],
 "metadata": {
  "kernelspec": {
   "display_name": "denv",
   "language": "python",
   "name": "python3"
  },
  "language_info": {
   "codemirror_mode": {
    "name": "ipython",
    "version": 3
   },
   "file_extension": ".py",
   "mimetype": "text/x-python",
   "name": "python",
   "nbconvert_exporter": "python",
   "pygments_lexer": "ipython3",
   "version": "3.10.14"
  }
 },
 "nbformat": 4,
 "nbformat_minor": 2
}
